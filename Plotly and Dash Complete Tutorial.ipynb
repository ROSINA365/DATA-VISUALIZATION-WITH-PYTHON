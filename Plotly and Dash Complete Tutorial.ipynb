{
 "cells": [
  {
   "cell_type": "code",
   "execution_count": 1,
   "id": "26f42aef",
   "metadata": {},
   "outputs": [
    {
     "name": "stdout",
     "output_type": "stream",
     "text": [
      "Requirement already satisfied: dash in c:\\users\\sharon\\anaconda3\\lib\\site-packages (2.6.1)\n",
      "Requirement already satisfied: plotly>=5.0.0 in c:\\users\\sharon\\anaconda3\\lib\\site-packages (from dash) (5.9.0)\n",
      "Requirement already satisfied: dash-html-components==2.0.0 in c:\\users\\sharon\\anaconda3\\lib\\site-packages (from dash) (2.0.0)\n",
      "Requirement already satisfied: Flask>=1.0.4 in c:\\users\\sharon\\anaconda3\\lib\\site-packages (from dash) (1.1.2)\n",
      "Requirement already satisfied: dash-core-components==2.0.0 in c:\\users\\sharon\\anaconda3\\lib\\site-packages (from dash) (2.0.0)\n",
      "Requirement already satisfied: flask-compress in c:\\users\\sharon\\anaconda3\\lib\\site-packages (from dash) (1.12)\n",
      "Requirement already satisfied: dash-table==5.0.0 in c:\\users\\sharon\\anaconda3\\lib\\site-packages (from dash) (5.0.0)\n",
      "Requirement already satisfied: Werkzeug>=0.15 in c:\\users\\sharon\\anaconda3\\lib\\site-packages (from Flask>=1.0.4->dash) (2.0.2)\n",
      "Requirement already satisfied: click>=5.1 in c:\\users\\sharon\\anaconda3\\lib\\site-packages (from Flask>=1.0.4->dash) (8.0.3)\n",
      "Requirement already satisfied: itsdangerous>=0.24 in c:\\users\\sharon\\anaconda3\\lib\\site-packages (from Flask>=1.0.4->dash) (2.0.1)\n",
      "Requirement already satisfied: Jinja2>=2.10.1 in c:\\users\\sharon\\anaconda3\\lib\\site-packages (from Flask>=1.0.4->dash) (2.11.3)\n",
      "Requirement already satisfied: colorama in c:\\users\\sharon\\anaconda3\\lib\\site-packages (from click>=5.1->Flask>=1.0.4->dash) (0.4.4)\n",
      "Requirement already satisfied: MarkupSafe>=0.23 in c:\\users\\sharon\\anaconda3\\lib\\site-packages (from Jinja2>=2.10.1->Flask>=1.0.4->dash) (1.1.1)\n",
      "Requirement already satisfied: tenacity>=6.2.0 in c:\\users\\sharon\\anaconda3\\lib\\site-packages (from plotly>=5.0.0->dash) (8.0.1)\n",
      "Requirement already satisfied: brotli in c:\\users\\sharon\\anaconda3\\lib\\site-packages (from flask-compress->dash) (1.0.9)\n"
     ]
    }
   ],
   "source": [
    "!pip install dash"
   ]
  },
  {
   "cell_type": "code",
   "execution_count": 13,
   "id": "4f32dd30",
   "metadata": {},
   "outputs": [],
   "source": [
    "##importing the required libraries for dashboard.\n",
    "import plotly.graph_objects as go\n",
    "import dash\n",
    "\n",
    "\n",
    "## import dash_html_components as html has deprecated.\n",
    "from dash import html\n",
    "from dash import dcc\n",
    "from dash.dependencies import Input, Output\n",
    "\n",
    "import pandas as pd\n",
    "import numpy as np\n",
    "\n",
    "\n",
    "\n",
    "\n"
   ]
  },
  {
   "cell_type": "code",
   "execution_count": 3,
   "id": "3ce81286",
   "metadata": {},
   "outputs": [
    {
     "data": {
      "text/plain": [
       "<dash.dash.Dash at 0x25a22ea8be0>"
      ]
     },
     "execution_count": 3,
     "metadata": {},
     "output_type": "execute_result"
    }
   ],
   "source": [
    "## define your dashboard application.\n",
    "app = dash.Dash() ## defining your dashboard application \n",
    "app"
   ]
  },
  {
   "cell_type": "code",
   "execution_count": 4,
   "id": "aa986edb",
   "metadata": {},
   "outputs": [
    {
     "name": "stdout",
     "output_type": "stream",
     "text": [
      "Dash is running on http://127.0.0.1:8050/\n",
      "\n",
      " * Serving Flask app \"__main__\" (lazy loading)\n",
      " * Environment: production\n",
      "\u001b[31m   WARNING: This is a development server. Do not use it in a production deployment.\u001b[0m\n",
      "\u001b[2m   Use a production WSGI server instead.\u001b[0m\n",
      " * Debug mode: off\n"
     ]
    },
    {
     "name": "stderr",
     "output_type": "stream",
     "text": [
      " * Running on http://127.0.0.1:8050/ (Press CTRL+C to quit)\n"
     ]
    }
   ],
   "source": [
    "## defining HTML components.\n",
    "app.layout = html.Div(children = [html.Div('Welcome to the Dashboard', style ={\n",
    "                                                    'color':'white',\n",
    "                                                    'text-align':'center',\n",
    "                                                    'border-style': 'dotted',\n",
    "                                                    'background-color': 'blue',\n",
    "                                                    'display':'inline-block',\n",
    "                                                    'width':'80%'\n",
    "                                                   \n",
    "                                                     } ),\n",
    "                       html.Div('Hello world', style ={\n",
    "                                                    'color':'green',\n",
    "                                                    'text-align':'center',\n",
    "                                                    'border-style': 'dotted',\n",
    "                                                    'background-color': 'darkorange',\n",
    "                                                    'display':'inline-block',\n",
    "                                                    'width':'40%'\n",
    "                                                   \n",
    "                                                     } ), \n",
    "                       html.Div('The weather is warm', style = {\n",
    "                                                    'color':'black',\n",
    "                                                    'text-align':'center',\n",
    "                                                    'border-style': 'dotted',\n",
    "                                                    'background-color': 'yellow',\n",
    "                                                    'display':'inline-block',\n",
    "                                                    'width':'40%'\n",
    "                           \n",
    "                       }\n",
    "                               )])\n",
    "\n",
    "if __name__ == \"__main__\":\n",
    "    app.run_server()\n",
    "## To make any further changes you need to stop the server."
   ]
  },
  {
   "cell_type": "code",
   "execution_count": 9,
   "id": "7a9245e4",
   "metadata": {},
   "outputs": [],
   "source": [
    "airline_data =  pd.read_csv('https://cf-courses-data.s3.us.cloud-object-storage.appdomain.cloud/IBMDeveloperSkillsNetwork-DV0101EN-SkillsNetwork/Data%20Files/airline_data.csv', \n",
    "                            encoding = \"ISO-8859-1\",\n",
    "                            dtype={'Div1Airport': str, 'Div1TailNum': str, \n",
    "                                   'Div2Airport': str, 'Div2TailNum': str})\n"
   ]
  },
  {
   "cell_type": "code",
   "execution_count": 14,
   "id": "609a9f46",
   "metadata": {},
   "outputs": [],
   "source": [
    "# Create a dash application\n",
    "app = dash.Dash(__name__)\n",
    "\n",
    "app.layout = html.Div(children=[ html.H1('Airline Performance Dashboard',style={'textAlign': 'center', 'color': '#503D36','font-size': 40}),\n",
    "                                html.Div([\"Input Year: \", dcc.Input(id='input-year', value='2010', \n",
    "                                type='number', style={'height':'50px', 'font-size': 35}),], \n",
    "                                style={'font-size': 40}),\n",
    "                                html.Br(),\n",
    "                                html.Br(),\n",
    "                                html.Div(dcc.Graph(id='line-plot')),\n",
    "                                ])"
   ]
  },
  {
   "cell_type": "code",
   "execution_count": 18,
   "id": "a4c2fa63",
   "metadata": {},
   "outputs": [
    {
     "name": "stdout",
     "output_type": "stream",
     "text": [
      "Dash is running on http://127.0.0.1:8050/\n",
      "\n",
      "Dash is running on http://127.0.0.1:8050/\n",
      "\n",
      "Dash is running on http://127.0.0.1:8050/\n",
      "\n",
      " * Serving Flask app \"__main__\" (lazy loading)\n",
      " * Environment: production\n",
      "\u001b[31m   WARNING: This is a development server. Do not use it in a production deployment.\u001b[0m\n",
      "\u001b[2m   Use a production WSGI server instead.\u001b[0m\n",
      " * Debug mode: off\n"
     ]
    },
    {
     "name": "stderr",
     "output_type": "stream",
     "text": [
      " * Running on http://127.0.0.1:8050/ (Press CTRL+C to quit)\n",
      "127.0.0.1 - - [15/Sep/2022 23:32:49] \"GET / HTTP/1.1\" 200 -\n",
      "127.0.0.1 - - [15/Sep/2022 23:32:50] \"GET /_dash-component-suites/dash/deps/polyfill@7.v2_6_1m1663187177.12.1.min.js HTTP/1.1\" 200 -\n",
      "127.0.0.1 - - [15/Sep/2022 23:32:50] \"GET /_dash-component-suites/dash/deps/prop-types@15.v2_6_1m1663187177.8.1.min.js HTTP/1.1\" 200 -\n",
      "127.0.0.1 - - [15/Sep/2022 23:32:50] \"GET /_dash-component-suites/dash/dash-renderer/build/dash_renderer.v2_6_1m1663187171.min.js HTTP/1.1\" 200 -\n",
      "127.0.0.1 - - [15/Sep/2022 23:32:50] \"GET /_dash-component-suites/dash/deps/react-dom@16.v2_6_1m1663187177.14.0.min.js HTTP/1.1\" 200 -\n",
      "127.0.0.1 - - [15/Sep/2022 23:32:50] \"GET /_dash-component-suites/dash/deps/react@16.v2_6_1m1663187177.14.0.min.js HTTP/1.1\" 200 -\n",
      "127.0.0.1 - - [15/Sep/2022 23:32:52] \"GET /_dash-component-suites/dash/dcc/dash_core_components.v2_6_1m1663187175.js HTTP/1.1\" 200 -\n",
      "127.0.0.1 - - [15/Sep/2022 23:32:53] \"GET /_dash-component-suites/dash/html/dash_html_components.v2_0_5m1663187181.min.js HTTP/1.1\" 200 -\n",
      "127.0.0.1 - - [15/Sep/2022 23:32:53] \"GET /_dash-component-suites/dash/dcc/dash_core_components-shared.v2_6_1m1663187175.js HTTP/1.1\" 200 -\n",
      "127.0.0.1 - - [15/Sep/2022 23:32:53] \"GET /_dash-component-suites/dash/dash_table/bundle.v5_1_5m1663187172.js HTTP/1.1\" 200 -\n",
      "127.0.0.1 - - [15/Sep/2022 23:32:54] \"GET /_dash-layout HTTP/1.1\" 200 -\n",
      "127.0.0.1 - - [15/Sep/2022 23:32:54] \"GET /_dash-dependencies HTTP/1.1\" 200 -\n",
      "127.0.0.1 - - [15/Sep/2022 23:32:54] \"GET /_favicon.ico?v=2.6.1 HTTP/1.1\" 200 -\n",
      "127.0.0.1 - - [15/Sep/2022 23:32:54] \"GET /_dash-component-suites/dash/dcc/async-graph.js HTTP/1.1\" 200 -\n",
      "127.0.0.1 - - [15/Sep/2022 23:32:54] \"GET /_dash-component-suites/dash/dcc/async-plotlyjs.js HTTP/1.1\" 200 -\n",
      "127.0.0.1 - - [15/Sep/2022 23:32:57] \"POST /_dash-update-component HTTP/1.1\" 200 -\n",
      "127.0.0.1 - - [15/Sep/2022 23:33:00] \"POST /_dash-update-component HTTP/1.1\" 200 -\n",
      "127.0.0.1 - - [15/Sep/2022 23:33:01] \"POST /_dash-update-component HTTP/1.1\" 200 -\n",
      "127.0.0.1 - - [15/Sep/2022 23:33:02] \"POST /_dash-update-component HTTP/1.1\" 200 -\n",
      "127.0.0.1 - - [15/Sep/2022 23:33:03] \"POST /_dash-update-component HTTP/1.1\" 200 -\n"
     ]
    }
   ],
   "source": [
    "# add callback decorator\n",
    "@app.callback( Output(component_id='line-plot', component_property='figure'),\n",
    "               Input(component_id='input-year', component_property='value'))\n",
    "# Add computation to callback function and return graph\n",
    "def get_graph(entered_year):\n",
    "    # Select 2019 data\n",
    "    df =  airline_data[airline_data['Year']==int(entered_year)]\n",
    "\n",
    "    # Group the data by Month and compute average over arrival delay time.\n",
    "    line_data = df.groupby('Month')['ArrDelay'].mean().reset_index()\n",
    "\n",
    "    fig = go.Figure(data=go.Scatter(x=line_data['Month'], y=line_data['ArrDelay'], mode='lines', marker=dict(color='green')))\n",
    "    fig.update_layout(title='Month vs Average Flight Delay Time', xaxis_title='Month', yaxis_title='ArrDelay')\n",
    "    return fig\n",
    "\n",
    "# Run the app\n",
    "if __name__ == '__main__':\n",
    "    app.run_server()"
   ]
  },
  {
   "cell_type": "code",
   "execution_count": null,
   "id": "836d082a",
   "metadata": {},
   "outputs": [],
   "source": [
    "html.Div([\n",
    "    dcc.Graph(\n",
    "        figure=dict(\n",
    "            data=[\n",
    "                dict(\n",
    "                    x = [\"Apples\", \"Oranges\", \"Bananas\", \"Apples\", \"Oranges\", \"Bananas\"],\n",
    "                   y =  [4, 1, 2, 2, 4, 5],\n",
    "                    \n",
    "                    marker=dict(\n",
    "                        color= [\"San Francisco\", \"San Francisco\", \"San Francisco\", \"New York City\", \"Montréal\", \"New York City\"]\n",
    "                    ),\n",
    "                    barmode=\"group\"\n",
    "                  \n",
    "\n",
    "                )"
   ]
  },
  {
   "cell_type": "code",
   "execution_count": null,
   "id": "31318ea9",
   "metadata": {},
   "outputs": [],
   "source": []
  }
 ],
 "metadata": {
  "kernelspec": {
   "display_name": "Python 3 (ipykernel)",
   "language": "python",
   "name": "python3"
  },
  "language_info": {
   "codemirror_mode": {
    "name": "ipython",
    "version": 3
   },
   "file_extension": ".py",
   "mimetype": "text/x-python",
   "name": "python",
   "nbconvert_exporter": "python",
   "pygments_lexer": "ipython3",
   "version": "3.9.7"
  }
 },
 "nbformat": 4,
 "nbformat_minor": 5
}
